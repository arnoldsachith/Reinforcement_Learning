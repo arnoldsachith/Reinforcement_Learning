{
  "nbformat": 4,
  "nbformat_minor": 0,
  "metadata": {
    "colab": {
      "name": "Monta_Carlo_Random_walk",
      "provenance": [],
      "collapsed_sections": []
    },
    "kernelspec": {
      "name": "python3",
      "display_name": "Python 3"
    }
  },
  "cells": [
    {
      "cell_type": "code",
      "metadata": {
        "id": "1z21GraVb2ZF"
      },
      "source": [
        "import random"
      ],
      "execution_count": null,
      "outputs": []
    },
    {
      "cell_type": "code",
      "metadata": {
        "id": "TCNrQdhwcFkz"
      },
      "source": [
        "def random_walk(n):\n",
        "  x=0\n",
        "  y=0\n",
        "  for i in range(n):\n",
        "    step = random.choice(['N','S','E','W'])\n",
        "    if step == 'N':\n",
        "      y=y+1\n",
        "    elif step == \"S\":\n",
        "      y=y-1\n",
        "    elif step == 'E':\n",
        "      x=x+1\n",
        "    else:\n",
        "      x=x-1\n",
        "  return(x,y)"
      ],
      "execution_count": null,
      "outputs": []
    },
    {
      "cell_type": "code",
      "metadata": {
        "id": "vz_1YMF3eVub",
        "outputId": "d45187d5-caaf-429a-beeb-ba20d4b5b959",
        "colab": {
          "base_uri": "https://localhost:8080/",
          "height": 464
        }
      },
      "source": [
        "for i in range(25):\n",
        "  walk = random_walk(10)\n",
        "  print(walk, 'distance from home =', abs(walk[0]) + abs(walk[1]))"
      ],
      "execution_count": null,
      "outputs": [
        {
          "output_type": "stream",
          "text": [
            "(-3, -1) distance from home = 4\n",
            "(2, -2) distance from home = 4\n",
            "(0, 0) distance from home = 0\n",
            "(-2, 0) distance from home = 2\n",
            "(3, 3) distance from home = 6\n",
            "(-1, -1) distance from home = 2\n",
            "(6, -2) distance from home = 8\n",
            "(0, 2) distance from home = 2\n",
            "(0, -2) distance from home = 2\n",
            "(-1, 1) distance from home = 2\n",
            "(-3, -1) distance from home = 4\n",
            "(2, 4) distance from home = 6\n",
            "(-3, 1) distance from home = 4\n",
            "(2, -4) distance from home = 6\n",
            "(0, 4) distance from home = 4\n",
            "(-1, -3) distance from home = 4\n",
            "(-2, 0) distance from home = 2\n",
            "(-1, -3) distance from home = 4\n",
            "(4, 0) distance from home = 4\n",
            "(3, 1) distance from home = 4\n",
            "(1, -3) distance from home = 4\n",
            "(4, 4) distance from home = 8\n",
            "(0, 2) distance from home = 2\n",
            "(0, 0) distance from home = 0\n",
            "(1, -1) distance from home = 2\n"
          ],
          "name": "stdout"
        }
      ]
    },
    {
      "cell_type": "code",
      "metadata": {
        "id": "OZVDsgrnfmuC"
      },
      "source": [
        "import random"
      ],
      "execution_count": null,
      "outputs": []
    },
    {
      "cell_type": "code",
      "metadata": {
        "id": "LoP67AAziXjP"
      },
      "source": [
        "def random_walk2(n):\n",
        "  x,y = 0,0\n",
        "  for i in range(n):\n",
        "    (dx,dy) = random.choice([(0,1),(0,-1),(1,0),(-1,0)])\n",
        "    x+=dx\n",
        "    y=y+dy\n",
        "  return (x,y)\n"
      ],
      "execution_count": null,
      "outputs": []
    },
    {
      "cell_type": "code",
      "metadata": {
        "id": "slR_xZrijVz1",
        "outputId": "ff238333-c9dd-49df-d6c2-25c34ca27474",
        "colab": {
          "base_uri": "https://localhost:8080/",
          "height": 464
        }
      },
      "source": [
        "for i in range(25):\n",
        "  walk = random_walk2(10)\n",
        "  print(walk, 'distance from home =', abs(walk[0]) + abs(walk[1]))"
      ],
      "execution_count": null,
      "outputs": [
        {
          "output_type": "stream",
          "text": [
            "(3, 1) distance from home = 4\n",
            "(3, 1) distance from home = 4\n",
            "(3, 3) distance from home = 6\n",
            "(1, -5) distance from home = 6\n",
            "(0, -2) distance from home = 2\n",
            "(2, -4) distance from home = 6\n",
            "(-2, -4) distance from home = 6\n",
            "(0, 2) distance from home = 2\n",
            "(1, 1) distance from home = 2\n",
            "(2, -2) distance from home = 4\n",
            "(-2, -4) distance from home = 6\n",
            "(3, 3) distance from home = 6\n",
            "(-4, 2) distance from home = 6\n",
            "(2, -2) distance from home = 4\n",
            "(-2, -2) distance from home = 4\n",
            "(-1, -1) distance from home = 2\n",
            "(-2, 0) distance from home = 2\n",
            "(1, 1) distance from home = 2\n",
            "(-2, -2) distance from home = 4\n",
            "(0, 0) distance from home = 0\n",
            "(-3, -1) distance from home = 4\n",
            "(-2, -2) distance from home = 4\n",
            "(-5, 1) distance from home = 6\n",
            "(0, 2) distance from home = 2\n",
            "(0, 0) distance from home = 0\n"
          ],
          "name": "stdout"
        }
      ]
    },
    {
      "cell_type": "code",
      "metadata": {
        "id": "9hP0GSJnjgUM"
      },
      "source": [
        "number_of_walks = 5"
      ],
      "execution_count": null,
      "outputs": []
    },
    {
      "cell_type": "code",
      "metadata": {
        "id": "KsalP-zZkdLZ",
        "outputId": "4f8c66dc-4c66-46a7-b358-9eb74ec8d88c",
        "colab": {
          "base_uri": "https://localhost:8080/",
          "height": 553
        }
      },
      "source": [
        "for walk_length in range(1,31):\n",
        "  no_transport = 0\n",
        "  for i in range(number_of_walks):\n",
        "    (x,y) =  random_walk2(walk_length)\n",
        "    distance = abs(x) + abs(y)\n",
        "    if distance <=4:\n",
        "      no_transport+=1\n",
        "  no_walks_percentage = float(no_transport)/number_of_walks\n",
        "  print(\"walk_size =\", walk_length,\"  / % of no transport = \", 100*no_walks_percentage)"
      ],
      "execution_count": null,
      "outputs": [
        {
          "output_type": "stream",
          "text": [
            "walk_size = 1   / % of no transport =  100.0\n",
            "walk_size = 2   / % of no transport =  100.0\n",
            "walk_size = 3   / % of no transport =  100.0\n",
            "walk_size = 4   / % of no transport =  100.0\n",
            "walk_size = 5   / % of no transport =  100.0\n",
            "walk_size = 6   / % of no transport =  100.0\n",
            "walk_size = 7   / % of no transport =  80.0\n",
            "walk_size = 8   / % of no transport =  80.0\n",
            "walk_size = 9   / % of no transport =  80.0\n",
            "walk_size = 10   / % of no transport =  80.0\n",
            "walk_size = 11   / % of no transport =  80.0\n",
            "walk_size = 12   / % of no transport =  40.0\n",
            "walk_size = 13   / % of no transport =  20.0\n",
            "walk_size = 14   / % of no transport =  40.0\n",
            "walk_size = 15   / % of no transport =  60.0\n",
            "walk_size = 16   / % of no transport =  80.0\n",
            "walk_size = 17   / % of no transport =  40.0\n",
            "walk_size = 18   / % of no transport =  80.0\n",
            "walk_size = 19   / % of no transport =  20.0\n",
            "walk_size = 20   / % of no transport =  60.0\n",
            "walk_size = 21   / % of no transport =  20.0\n",
            "walk_size = 22   / % of no transport =  40.0\n",
            "walk_size = 23   / % of no transport =  60.0\n",
            "walk_size = 24   / % of no transport =  40.0\n",
            "walk_size = 25   / % of no transport =  20.0\n",
            "walk_size = 26   / % of no transport =  0.0\n",
            "walk_size = 27   / % of no transport =  60.0\n",
            "walk_size = 28   / % of no transport =  40.0\n",
            "walk_size = 29   / % of no transport =  60.0\n",
            "walk_size = 30   / % of no transport =  0.0\n"
          ],
          "name": "stdout"
        }
      ]
    },
    {
      "cell_type": "code",
      "metadata": {
        "id": "UBmte2kVmUtf"
      },
      "source": [
        ""
      ],
      "execution_count": null,
      "outputs": []
    }
  ]
}